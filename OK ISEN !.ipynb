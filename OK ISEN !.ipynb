{
 "cells": [
  {
   "cell_type": "markdown",
   "metadata": {},
   "source": [
    "# Démonstration\n",
    "\n",
    "<img src=\"src/imgs/ok_isen.png\" style=\"width:400px\"/>\n",
    "\n",
    "L'objectif de cet démonstration est de mettre en pratique les différents éléments vus et étudiés dans le **compte-rendu**. Après avoir configuré les différents paramètres du système et éduqué le réseau de neurones artificiels, ce notebook va simuler l'éxécution complète du système en essayant de détecter la présence du mot-clé d'activation **OK ISEN !** directement depuis le microphone de l'ordinateur, et ce même dans un environnement bruité.\n",
    "\n",
    "Notez que **[pyaudio](https://people.csail.mit.edu/hubert/pyaudio/)** doit être installé sur la machine (le chemin ci-dessous doit correspondre au dossier d'installation de pyaudio).\n",
    "\n",
    "Les trois cellules suivantes n'ont besoin d'être exécutées qu'une seule fois lors de l'ouverture du fichier."
   ]
  },
  {
   "cell_type": "code",
   "execution_count": 1,
   "metadata": {
    "collapsed": true
   },
   "outputs": [],
   "source": [
    "%matplotlib inline \n",
    "%reload_ext autoreload\n",
    "%autoreload 2 \n",
    "%matplotlib notebook\n",
    "from bin import *"
   ]
  },
  {
   "cell_type": "code",
   "execution_count": 2,
   "metadata": {},
   "outputs": [
    {
     "data": {
      "text/html": [
       "<script>IPython.OutputArea.prototype._should_scroll = lines => { return false }</script>\n",
       "<style>.output_wrapper button.btn.btn-default, .output_wrapper .ui-dialog-titlebar { display: none; } .ui-resizable { pointer-events:none; } .widget-hprogress { width: auto; }</style>"
      ],
      "text/plain": [
       "<IPython.core.display.HTML object>"
      ]
     },
     "metadata": {},
     "output_type": "display_data"
    }
   ],
   "source": [
    "%%html\n",
    "<script>IPython.OutputArea.prototype._should_scroll = lines => { return false }</script>\n",
    "<style>.output_wrapper button.btn.btn-default, .output_wrapper .ui-dialog-titlebar { display: none; } .ui-resizable { pointer-events:none; } .widget-hprogress { width: auto; }</style>"
   ]
  },
  {
   "cell_type": "code",
   "execution_count": 3,
   "metadata": {
    "scrolled": true
   },
   "outputs": [
    {
     "name": "stdout",
     "output_type": "stream",
     "text": [
      "Préparation des fichiers à traiter...\n",
      "   878 fichiers d'apprentissage récupérés\n",
      "     0 fichiers de test récupérés\n",
      "     2 valeurs (OK ISEN !, Bruit)\n",
      "\n",
      "Acquisition des données...   878 fichiers d'apprentissage traités\n",
      "     0 fichiers de test traités\n",
      "\n",
      "Apprentissage...\n",
      "   878 fichiers utilisés\n"
     ]
    }
   ],
   "source": [
    "filters, filters_fq = gen_filters(fmin=75, fmax=5000, nb_filters=6, q=1, n=3, fs=48000)\n",
    "predict = learning(\n",
    "    folder_learn=\"src/learning/\", folder_test=\"src/learning/\",\n",
    "    learn=[\"ok_isen-{i:02}\", \"bruit-{i}\", \"silence{i:02}\", \"voix-{i}\", \"m1_{i:02}\", \"f1_{i:02}\"], learn_v=[\"OK ISEN !\", \"Bruit\", \"Bruit\", \"Bruit\", \"Bruit\", \"Bruit\"], learn_i=[276, 303, 50, 169, 40, 40], \n",
    "    neurons=(30,20,10,10),\n",
    "    options={\"filters\":filters, \"filters_fq\":filters_fq, \"time_res\":0.025, \"amp_res\":4}\n",
    ")"
   ]
  },
  {
   "cell_type": "markdown",
   "metadata": {},
   "source": [
    "# > OK ISEN !\n",
    "\n",
    "Vous devez interrompre le kernel pour quitter l'exécution de la celulle-ci dessous.\n",
    "\n",
    "![Stop](src/imgs/stop.png)"
   ]
  },
  {
   "cell_type": "code",
   "execution_count": 10,
   "metadata": {},
   "outputs": [
    {
     "name": "stdout",
     "output_type": "stream",
     "text": [
      "Terminé !\n"
     ]
    }
   ],
   "source": [
    "sys.path.append(\"C:\\Program Files\\Python36\\Lib\\site-packages\")\n",
    "live_record(time_res=0.025, amp_res=4, filters_fq=filters_fq, filters=filters, fs=48000, last=1, predict=predict)"
   ]
  },
  {
   "cell_type": "code",
   "execution_count": null,
   "metadata": {
    "collapsed": true
   },
   "outputs": [],
   "source": []
  }
 ],
 "metadata": {
  "kernelspec": {
   "display_name": "Python 3",
   "language": "python",
   "name": "python3"
  },
  "language_info": {
   "codemirror_mode": {
    "name": "ipython",
    "version": 3
   },
   "file_extension": ".py",
   "mimetype": "text/x-python",
   "name": "python",
   "nbconvert_exporter": "python",
   "pygments_lexer": "ipython3",
   "version": "3.6.2"
  }
 },
 "nbformat": 4,
 "nbformat_minor": 2
}
