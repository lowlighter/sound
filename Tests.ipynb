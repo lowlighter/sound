{
 "cells": [
  {
   "cell_type": "markdown",
   "metadata": {},
   "source": [
    "# Etude de la détection automatique de caractéristiques sur un signal audio\n",
    "![ISEN Lille](src/isen.jpg)\n",
    "\n",
    "# Support de tests\n",
    "\n",
    "Ce Notebook est une version allégée du **Compte-rendu**.\n",
    "Elle permet d'effectuer rapidement les tests en chargeant directement tous les fichiers nécessaires."
   ]
  },
  {
   "cell_type": "code",
   "execution_count": 1,
   "metadata": {},
   "outputs": [
    {
     "data": {
      "text/html": [
       "<script>\n",
       "IPython.OutputArea.prototype._should_scroll = lines => { return false }  \n",
       "</script>\n",
       "<style>\n",
       ".output_wrapper button.btn.btn-default, .output_wrapper .ui-dialog-titlebar { display: none; }\n",
       ".output_stderr { display: none; }\n",
       ".ui-resizable { pointer-events:none; }\n",
       "</style>"
      ],
      "text/plain": [
       "<IPython.core.display.HTML object>"
      ]
     },
     "metadata": {},
     "output_type": "display_data"
    }
   ],
   "source": [
    "%%html\n",
    "<script>\n",
    "IPython.OutputArea.prototype._should_scroll = lines => { return false }  \n",
    "</script>\n",
    "<style>\n",
    ".output_wrapper button.btn.btn-default, .output_wrapper .ui-dialog-titlebar { display: none; }\n",
    ".output_stderr { display: none; }\n",
    ".ui-resizable { pointer-events:none; }\n",
    "</style>"
   ]
  },
  {
   "cell_type": "code",
   "execution_count": 2,
   "metadata": {
    "collapsed": true
   },
   "outputs": [],
   "source": [
    "# Chemin vers les bibliothèques Python\n",
    "lib_path = \"C:\\Program Files\\Python36\\Lib\\site-packages\""
   ]
  },
  {
   "cell_type": "code",
   "execution_count": 7,
   "metadata": {
    "collapsed": true
   },
   "outputs": [],
   "source": [
    "%matplotlib inline\n",
    "%reload_ext autoreload\n",
    "%autoreload 2\n",
    "%matplotlib notebook\n",
    "%run -i bin/imports.py\n",
    "%run -i bin/imports_pyaudio.py\n",
    "%run -i bin/bandpass.py\n",
    "%run -i bin/compare.py\n",
    "%run -i bin/compute.py\n",
    "%run -i bin/cut.py\n",
    "%run -i bin/drc.py\n",
    "%run -i bin/drcz.py\n",
    "%run -i bin/energies.py\n",
    "%run -i bin/energy.py\n",
    "%run -i bin/gen_data.py\n",
    "%run -i bin/gen_filtered.py\n",
    "%run -i bin/gen_filters.py\n",
    "%run -i bin/gen_sine.py\n",
    "%run -i bin/live_record.py\n",
    "%run -i bin/plot_data.py\n",
    "%run -i bin/plot_datagram.py\n",
    "%run -i bin/plot_dbfs.py\n",
    "%run -i bin/plot_energies.py\n",
    "%run -i bin/plot_fft.py\n",
    "%run -i bin/plot_filtered.py\n",
    "%run -i bin/plot_formants.py\n",
    "%run -i bin/plot_freqz.py\n",
    "%run -i bin/plot_specamp.py\n",
    "%run -i bin/plot_specgram.py\n",
    "%run -i bin/similar.py\n",
    "%run -i bin/similarities.py\n",
    "%run -i bin/state_at.py\n",
    "\n",
    "%run -i bin/to1D.py\n",
    "%run -i bin/learning.py"
   ]
  },
  {
   "cell_type": "markdown",
   "metadata": {},
   "source": [
    "# Zone de tests\n",
    "\n",
    "Toutes les fonctions implémentées sont accessibles dans les cellules ci-dessous."
   ]
  },
  {
   "cell_type": "code",
   "execution_count": 14,
   "metadata": {},
   "outputs": [
    {
     "name": "stdout",
     "output_type": "stream",
     "text": [
      "Préparation des fichiers à traiter...\n",
      "    98 fichiers d'apprentissage récupérés\n",
      "    20 fichiers de test récupérés\n",
      "     2 valeurs (chien, chat)\n",
      "\n",
      "Acquisition des données..."
     ]
    },
    {
     "name": "stderr",
     "output_type": "stream",
     "text": [
      "C:\\ProgramUser\\Anaconda\\lib\\site-packages\\scipy\\io\\wavfile.py:273: WavFileWarning: Chunk (non-data) not understood, skipping it.\n",
      "  WavFileWarning)\n"
     ]
    },
    {
     "name": "stdout",
     "output_type": "stream",
     "text": [
      "    98 fichiers d'apprentissage traités\n",
      "    20 fichiers de test traités\n",
      "\n",
      "Apprentissage...\n",
      "    98 fichiers utilisés\n",
      "    20 prédictions\n",
      "\n",
      "Rapport détaillé du classificateur :\n",
      "             precision    recall  f1-score   support\n",
      "\n",
      "       chat       0.90      0.90      0.90        10\n",
      "      chien       0.90      0.90      0.90        10\n",
      "\n",
      "avg / total       0.90      0.90      0.90        20\n",
      "\n"
     ]
    }
   ],
   "source": [
    "%run -i bin/learning.py\n",
    "learning(\n",
    "    learn=[\"chien{i:02}\", \"chat{i:02}\"], learn_i=[49, 49], \n",
    "    test=[\"chien{i:02}\", \"chat{i:02}\"], test_i=[10, 10], \n",
    "    options={\"fmin\":300, \"fmax\":12000, \"nb_filters\":16, \"q\":6, \"n\":3, \"time_res\":0.015, \"amp_res\":2}\n",
    ");"
   ]
  },
  {
   "cell_type": "code",
   "execution_count": null,
   "metadata": {
    "collapsed": true
   },
   "outputs": [],
   "source": []
  }
 ],
 "metadata": {
  "kernelspec": {
   "display_name": "Python 3",
   "language": "python",
   "name": "python3"
  },
  "language_info": {
   "codemirror_mode": {
    "name": "ipython",
    "version": 3
   },
   "file_extension": ".py",
   "mimetype": "text/x-python",
   "name": "python",
   "nbconvert_exporter": "python",
   "pygments_lexer": "ipython3",
   "version": "3.6.2"
  }
 },
 "nbformat": 4,
 "nbformat_minor": 2
}
