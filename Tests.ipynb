{
 "cells": [
  {
   "cell_type": "markdown",
   "metadata": {},
   "source": [
    "# Etude de la détection automatique de caractéristiques sur un signal audio\n",
    "![ISEN Lille](src/imgs/isen.jpg)\n",
    "\n",
    "# Support de tests\n",
    "\n",
    "Ce Notebook est une version allégée du **Compte-rendu**.\n",
    "Elle permet d'effectuer rapidement les tests en chargeant directement tous les fichiers nécessaires."
   ]
  },
  {
   "cell_type": "code",
   "execution_count": 1,
   "metadata": {},
   "outputs": [
    {
     "data": {
      "text/html": [
       "<script>\n",
       "IPython.OutputArea.prototype._should_scroll = lines => { return false }  \n",
       "</script>\n",
       "<style>\n",
       ".output_wrapper button.btn.btn-default, .output_wrapper .ui-dialog-titlebar { display: none; }\n",
       ".output_stderr { display: none; }\n",
       ".ui-resizable { pointer-events:none; }\n",
       ".widget-hprogress { width: auto; }\n",
       "</style>"
      ],
      "text/plain": [
       "<IPython.core.display.HTML object>"
      ]
     },
     "metadata": {},
     "output_type": "display_data"
    }
   ],
   "source": [
    "%%html\n",
    "<script>\n",
    "IPython.OutputArea.prototype._should_scroll = lines => { return false }  \n",
    "</script>\n",
    "<style>\n",
    ".output_wrapper button.btn.btn-default, .output_wrapper .ui-dialog-titlebar { display: none; }\n",
    ".output_stderr { display: none; }\n",
    ".ui-resizable { pointer-events:none; }\n",
    ".widget-hprogress { width: auto; }\n",
    "</style>"
   ]
  },
  {
   "cell_type": "code",
   "execution_count": 2,
   "metadata": {
    "collapsed": true
   },
   "outputs": [],
   "source": [
    "# Chemin vers les bibliothèques Python\n",
    "lib_path = \"C:\\Program Files\\Python36\\Lib\\site-packages\""
   ]
  },
  {
   "cell_type": "code",
   "execution_count": 5,
   "metadata": {},
   "outputs": [
    {
     "name": "stderr",
     "output_type": "stream",
     "text": [
      "ERROR:root:File `'bin/plot_fft.py'` not found.\n"
     ]
    }
   ],
   "source": [
    "%matplotlib inline\n",
    "%reload_ext autoreload\n",
    "%autoreload 2\n",
    "%matplotlib notebook\n",
    "%run -i bin/imports.py\n",
    "%run -i bin/imports_pyaudio.py\n",
    "%run -i bin/adc.py\n",
    "%run -i bin/bandpass.py\n",
    "%run -i bin/benchmark.py\n",
    "%run -i bin/compare.py\n",
    "%run -i bin/compute.py\n",
    "%run -i bin/cut.py\n",
    "%run -i bin/drc.py\n",
    "%run -i bin/drcz.py\n",
    "%run -i bin/energies.py\n",
    "%run -i bin/energy.py\n",
    "%run -i bin/gen_data.py\n",
    "%run -i bin/gen_filtered.py\n",
    "%run -i bin/gen_filters.py\n",
    "%run -i bin/gen_sine.py\n",
    "%run -i bin/learning_files.py\n",
    "%run -i bin/learning.py\n",
    "%run -i bin/live_record.py\n",
    "%run -i bin/plot_data.py\n",
    "%run -i bin/plot_datagram.py\n",
    "%run -i bin/plot_dbfs.py\n",
    "%run -i bin/plot_energies.py\n",
    "%run -i bin/plot_fft.py\n",
    "%run -i bin/plot_filtered.py\n",
    "%run -i bin/plot_formants.py\n",
    "%run -i bin/plot_freqz.py\n",
    "%run -i bin/plot_specamp.py\n",
    "%run -i bin/plot_specgram.py\n",
    "%run -i bin/similar.py\n",
    "%run -i bin/similarities.py\n",
    "%run -i bin/state_at.py\n",
    "%run -i bin/to1D.py"
   ]
  },
  {
   "cell_type": "markdown",
   "metadata": {},
   "source": [
    "# Zone de tests\n",
    "\n",
    "Toutes les fonctions implémentées sont accessibles dans les cellules ci-dessous."
   ]
  },
  {
   "cell_type": "code",
   "execution_count": null,
   "metadata": {},
   "outputs": [],
   "source": [
    "%run -i bin/learning.py\n",
    "learning(\n",
    "    learn=[\"chien{i:02}\", \"chat{i:02}\", \"loup{i:02}\"], learn_i=[50, 50, 50], \n",
    "    test=[\"chien{i:02}\", \"chat{i:02}\", \"loup{i:02}\"], test_i=[25, 25, 25], \n",
    "    options={\"fmin\":300, \"fmax\":22000, \"nb_filters\":32, \"q\":10, \"n\":3, \"time_res\":0.05, \"amp_res\":3},\n",
    "    neurons=(100)\n",
    ");"
   ]
  },
  {
   "cell_type": "code",
   "execution_count": null,
   "metadata": {},
   "outputs": [],
   "source": [
    "%run -i bin/learning.py\n",
    "learning(\n",
    "    learn=[\"f1_{i:02}\", \"m1_{i:02}\"], learn_i=[20, 20], \n",
    "    test=[\"f1_4{i}\", \"m1_4{i}\"], test_i=[9, 9], \n",
    "    options={\"fmin\":300, \"fmax\":12000, \"nb_filters\":16, \"q\":2, \"n\":3, \"time_res\":0.05, \"amp_res\":2, \"adc_res\":1},\n",
    "    neurons=(100),\n",
    "    benchmark_only=True\n",
    ")"
   ]
  },
  {
   "cell_type": "code",
   "execution_count": null,
   "metadata": {},
   "outputs": [
    {
     "data": {
      "application/vnd.jupyter.widget-view+json": {
       "model_id": "c89c1c883f574713945378b1291910d3",
       "version_major": 2,
       "version_minor": 0
      },
      "text/plain": [
       "A Jupyter Widget"
      ]
     },
     "metadata": {},
     "output_type": "display_data"
    },
    {
     "name": "stderr",
     "output_type": "stream",
     "text": [
      "C:\\ProgramUser\\Anaconda\\lib\\site-packages\\scipy\\io\\wavfile.py:273: WavFileWarning: Chunk (non-data) not understood, skipping it.\n",
      "  WavFileWarning)\n",
      "C:\\ProgramUser\\Anaconda\\lib\\site-packages\\sklearn\\neural_network\\multilayer_perceptron.py:564: ConvergenceWarning: Stochastic Optimizer: Maximum iterations (200) reached and the optimization hasn't converged yet.\n",
      "  % self.max_iter, ConvergenceWarning)\n"
     ]
    }
   ],
   "source": [
    "benchmark(\"adc_res\", [3, 16, 1], \n",
    "    folder_learn=\"src/learning/\", folder_test=\"src/tests/\",\n",
    "    learn=[\"chien{i:02}\", \"chat{i:02}\", \"loup{i:02}\"], learn_i=[50, 50, 50],\n",
    "    test=[\"chien{i:02}\", \"chat{i:02}\"], test_i=[25, 25],\n",
    "    neurons=(100),\n",
    "    options={\"fmin\":75, \"fmax\":5000, \"nb_filters\":6, \"q\":1, \"n\":3, \"time_res\":0.15, \"amp_res\":2, \"adc_res\":16})"
   ]
  },
  {
   "cell_type": "code",
   "execution_count": null,
   "metadata": {},
   "outputs": [],
   "source": [
    "filters, filters_fq = gen_filters(q=1, n=3, fs=48000, nb_filters=6, fmin=75, fmax=5000, debug=True, scale=\"log\")\n",
    "plot_freqz(filters, fs=48000)"
   ]
  }
 ],
 "metadata": {
  "kernelspec": {
   "display_name": "Python 3",
   "language": "python",
   "name": "python3"
  },
  "language_info": {
   "codemirror_mode": {
    "name": "ipython",
    "version": 3
   },
   "file_extension": ".py",
   "mimetype": "text/x-python",
   "name": "python",
   "nbconvert_exporter": "python",
   "pygments_lexer": "ipython3",
   "version": "3.6.2"
  }
 },
 "nbformat": 4,
 "nbformat_minor": 2
}
