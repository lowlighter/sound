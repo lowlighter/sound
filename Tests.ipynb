{
 "cells": [
  {
   "cell_type": "markdown",
   "metadata": {},
   "source": [
    "# Etude de la détection automatique de caractéristiques sur un signal audio\n",
    "![ISEN Lille](src/isen.jpg)\n",
    "\n",
    "# Support de tests\n",
    "\n",
    "Ce Notebook est une version allégée du **Compte-rendu**.\n",
    "Elle permet d'effectuer rapidement les tests en chargeant directement tous les fichiers nécessaires."
   ]
  },
  {
   "cell_type": "code",
   "execution_count": 1,
   "metadata": {},
   "outputs": [
    {
     "data": {
      "text/html": [
       "<script>\n",
       "IPython.OutputArea.prototype._should_scroll = lines => { return false }  \n",
       "</script>\n",
       "<style>\n",
       ".output_wrapper button.btn.btn-default, .output_wrapper .ui-dialog-titlebar { display: none; }\n",
       ".ui-resizable { pointer-events:none; }\n",
       "</style>"
      ],
      "text/plain": [
       "<IPython.core.display.HTML object>"
      ]
     },
     "metadata": {},
     "output_type": "display_data"
    }
   ],
   "source": [
    "%%html\n",
    "<script>\n",
    "IPython.OutputArea.prototype._should_scroll = lines => { return false }  \n",
    "</script>\n",
    "<style>\n",
    ".output_wrapper button.btn.btn-default, .output_wrapper .ui-dialog-titlebar { display: none; }\n",
    ".ui-resizable { pointer-events:none; }\n",
    "</style>"
   ]
  },
  {
   "cell_type": "code",
   "execution_count": 2,
   "metadata": {
    "collapsed": true
   },
   "outputs": [],
   "source": [
    "# Chemin vers les bibliothèques Python\n",
    "lib_path = \"C:\\Program Files\\Python36\\Lib\\site-packages\""
   ]
  },
  {
   "cell_type": "code",
   "execution_count": 3,
   "metadata": {
    "collapsed": true
   },
   "outputs": [],
   "source": [
    "%matplotlib inline\n",
    "%reload_ext autoreload\n",
    "%autoreload 2\n",
    "%matplotlib notebook\n",
    "%run -i bin/imports.py\n",
    "%run -i bin/imports_pyaudio.py\n",
    "%run -i bin/bandpass.py\n",
    "%run -i bin/compare.py\n",
    "%run -i bin/compute.py\n",
    "%run -i bin/cut.py\n",
    "%run -i bin/drc.py\n",
    "%run -i bin/drcz.py\n",
    "%run -i bin/energies.py\n",
    "%run -i bin/energy.py\n",
    "%run -i bin/gen_data.py\n",
    "%run -i bin/gen_filtered.py\n",
    "%run -i bin/gen_filters.py\n",
    "%run -i bin/gen_sine.py\n",
    "%run -i bin/live_record.py\n",
    "%run -i bin/plot_data.py\n",
    "%run -i bin/plot_datagram.py\n",
    "%run -i bin/plot_dbfs.py\n",
    "%run -i bin/plot_energies.py\n",
    "%run -i bin/plot_fft.py\n",
    "%run -i bin/plot_filtered.py\n",
    "%run -i bin/plot_formants.py\n",
    "%run -i bin/plot_freqz.py\n",
    "%run -i bin/plot_specamp.py\n",
    "%run -i bin/plot_specgram.py\n",
    "%run -i bin/similar.py\n",
    "%run -i bin/similarities.py\n",
    "%run -i bin/state_at.py"
   ]
  },
  {
   "cell_type": "markdown",
   "metadata": {},
   "source": [
    "# Zone de tests\n",
    "\n",
    "Toutes les fonctions implémentées sont accessibles dans les cellules ci-dessous."
   ]
  },
  {
   "cell_type": "code",
   "execution_count": null,
   "metadata": {
    "scrolled": true
   },
   "outputs": [],
   "source": []
  }
 ],
 "metadata": {
  "kernelspec": {
   "display_name": "Python 3",
   "language": "python",
   "name": "python3"
  },
  "language_info": {
   "codemirror_mode": {
    "name": "ipython",
    "version": 3
   },
   "file_extension": ".py",
   "mimetype": "text/x-python",
   "name": "python",
   "nbconvert_exporter": "python",
   "pygments_lexer": "ipython3",
   "version": "3.6.2"
  }
 },
 "nbformat": 4,
 "nbformat_minor": 2
}
